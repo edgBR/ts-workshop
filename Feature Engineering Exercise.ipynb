{
 "cells": [
  {
   "cell_type": "markdown",
   "metadata": {},
   "source": [
    "# Time Series Workshop &minus; Exercise\n",
    "\n",
    "ODSC East &minus; April 15, 2020\n",
    "\n",
    "Mark Steadman\n",
    "Viktor Kovryzhkin\n",
    "\n",
    "https://github.com/vikua/time-series-workshop\n"
   ]
  },
  {
   "cell_type": "markdown",
   "metadata": {},
   "source": [
    "## Setup"
   ]
  },
  {
   "cell_type": "code",
   "execution_count": 1,
   "metadata": {},
   "outputs": [],
   "source": [
    "%matplotlib inline\n",
    "\n",
    "import numpy as np\n",
    "import pandas as pd\n",
    "import matplotlib.pyplot as plt\n",
    "from IPython.display import display, HTML\n",
    "from sklearn.linear_model import ElasticNetCV\n",
    "from sklearn.model_selection import TimeSeriesSplit\n",
    "from sklearn.metrics import mean_squared_error, mean_absolute_error\n",
    "from sklearn.base import BaseEstimator, RegressorMixin\n",
    "\n",
    "from pandas.plotting import register_matplotlib_converters\n",
    "register_matplotlib_converters()"
   ]
  },
  {
   "cell_type": "code",
   "execution_count": 2,
   "metadata": {},
   "outputs": [],
   "source": [
    "# Re-run this cell to reset your recent score history\n",
    "attempt_scores = {}"
   ]
  },
  {
   "cell_type": "markdown",
   "metadata": {},
   "source": [
    "## Scoring Code (DO NOT EDIT)\n",
    "This scoring code defines functions that will be called by the editable section after."
   ]
  },
  {
   "cell_type": "code",
   "execution_count": 3,
   "metadata": {},
   "outputs": [],
   "source": [
    "def fit_model(t, X, y, distance, apriori_columns=None, log_transform=False, \n",
    "              test_size=0.2, estimator=None, show=False, exercise=''):\n",
    "    \"\"\"Fits a forecasting model to predict a future value and displays its accuracy.\n",
    "    \n",
    "    Parameters\n",
    "    ----------\n",
    "    t : pandas.Series, shape = (n_samples, )\n",
    "        The timestamps of each row in the data\n",
    "    X : pandas.DataFrame, shape = (n_samples, n_features)\n",
    "        The input features used for making predictions\n",
    "    y : pandas.Series, shape = (n_samples, )\n",
    "        The target values for each row\n",
    "    distance : int\n",
    "        The distance to forecast. Columns of X that are not listed in apriori_columns \n",
    "        will by shifted by this amount.\n",
    "    apriori_columns : list[str]\n",
    "        List of column names in X that should not be shifted by distance\n",
    "    log_transform : bool\n",
    "        Optional settings to enable log transform of the target\n",
    "    test_size : float or int\n",
    "        The percent or count of rows to use for the test set at the end of the time series\n",
    "    estimator : sklearn.base.BaseEstimator\n",
    "        Override the estimator used to fit the model\n",
    "    show : bool\n",
    "        Display a summary of the score, fit to the data, and feature impact\n",
    "\n",
    "    Returns\n",
    "    -------\n",
    "    estimator : sklearn.base.BaseEstimator\n",
    "        The fitted estimator model\n",
    "    test_score : float\n",
    "        The test split score (MASE by default)\n",
    "    \"\"\"\n",
    "    # apply forecast distance to non a priori columns\n",
    "    if apriori_columns is None:\n",
    "        apriori_columns = []\n",
    "    shift_cols = [c for c in X.columns if c not in apriori_columns]\n",
    "    X[shift_cols] = X[shift_cols].shift(distance)\n",
    "    \n",
    "    # ignore missing value rows\n",
    "    non_null = X.dropna(how='any').index.values\n",
    "\n",
    "    # get row indices for train and test set\n",
    "    if isinstance(test_size, float):\n",
    "        test_size = int(test_size * len(t))\n",
    "    train = non_null[:-test_size]\n",
    "    test  = non_null[-test_size:]\n",
    "\n",
    "    # standardize\n",
    "    numeric_cols = X.select_dtypes(include=[np.number]).columns\n",
    "    centers = X.loc[train, numeric_cols].mean(axis=0)\n",
    "    scales = np.maximum(1e-15, X.loc[train, numeric_cols].std(axis=0))\n",
    "    X[numeric_cols] = (X[numeric_cols] - centers)/scales\n",
    "    \n",
    "    # fit model\n",
    "    if estimator is None:\n",
    "        estimator = ElasticNetCV(n_alphas=100, l1_ratio=0.9, cv=TimeSeriesSplit(5), \n",
    "                                 eps=0.00001, tol=0.00001, max_iter=10000, \n",
    "                                 selection='random', random_state=123)\n",
    "    if log_transform:\n",
    "        estimator = MultiplicativeEstimator(estimator)\n",
    "    estimator.fit(X.loc[train, :], y[train])\n",
    "\n",
    "    y_pred = estimator.predict(X.loc[test, :])\n",
    "    naive = y.shift(distance).loc[test]\n",
    "    test_score = mean_absolute_error(y[test], y_pred)/mean_absolute_error(y[test], naive)\n",
    "\n",
    "    # track the recent scores\n",
    "    if exercise not in attempt_scores:\n",
    "        attempt_scores[exercise] = []\n",
    "    attempt_scores[exercise].append(test_score)\n",
    "\n",
    "    if show:\n",
    "        display(HTML('<h4>rows: {}, columns: {}, distance: {}, test_size: {}, test_error: {}</h4>'.format(\n",
    "            X.shape[0], X.shape[1], distance, test_size, test_score)))\n",
    "        show_attempt_summary(exercise)\n",
    "\n",
    "        # plot the fit\n",
    "        display(HTML('<h3>Model Fit:</h3>'))\n",
    "        plt.figure(figsize=(9,3))\n",
    "        plt.plot(t, y, '.', c='gray', alpha=0.7)\n",
    "        plt.plot(t[train], estimator.predict(X.loc[train, :]), 'b-', lw=2, alpha=0.7)\n",
    "        plt.plot(t[test],  estimator.predict(X.loc[test, :]),  'r-', lw=2, alpha=0.7)\n",
    "        plt.annotate('Test Error: {:%}'.format(test_score), \n",
    "                     xy=(0, 1), xytext=(12, -12), va='top', fontweight='bold',\n",
    "                     xycoords='axes fraction', textcoords='offset points')\n",
    "        plt.show()\n",
    "        \n",
    "        # show feature importances\n",
    "        display(HTML('<h3>Important Features:</h3>'))\n",
    "        if hasattr(estimator, 'coef_'):\n",
    "            coef = pd.Series(estimator.coef_, index=X.columns, name='Importance')\n",
    "            importances = coef.abs() / y.std()\n",
    "            importances = importances[importances > 0]\n",
    "            importances.loc['(others)'] = 0\n",
    "            importances.sort_values(ascending=False, inplace=True)\n",
    "            display(importances.to_frame().style.bar(color='orange'))\n",
    "        else:\n",
    "            display(HTML('<i>Not available</i>'))\n",
    "\n",
    "    return estimator, test_score\n",
    "\n",
    "\n",
    "def show_attempt_summary(ex):\n",
    "    \"\"\"Displays the recent scores\"\"\"\n",
    "    if len(attempt_scores[ex]) > 1:\n",
    "        score_delta = attempt_scores[ex][-1] - attempt_scores[ex][-2]\n",
    "        if score_delta < 0:\n",
    "            color = 'green'\n",
    "        elif score_delta < 1e-6:\n",
    "            color = 'gray'\n",
    "        else:\n",
    "            color = 'red'\n",
    "        message = '<h3>Score Change: <span style=\"color:{};\">{:+}</span></h3>'.format(color, score_delta)\n",
    "        display(HTML(message))\n",
    "\n",
    "        display(HTML('<h3>Recent Errors:</h3>'))\n",
    "        plt.figure(figsize=(9,1))\n",
    "        plt.title('Your Recent Errors')\n",
    "        plt.plot(np.arange(len(attempt_scores[ex])), attempt_scores[ex], 'mo-', mec='white', ms=5)\n",
    "        plt.axhline(min(attempt_scores[ex]), linestyle='--', alpha=0.5, color='gray')\n",
    "        plt.axhline(attempt_scores[ex][-1], linestyle='-', alpha=0.5, color='gray')\n",
    "        plt.xlim(0, len(attempt_scores[ex]))\n",
    "        plt.ylim([0.95*min(attempt_scores[ex]), 1.05*np.nanpercentile(attempt_scores[ex], 95)])\n",
    "        plt.show()\n",
    "\n",
    "\n",
    "class MultiplicativeEstimator(BaseEstimator, RegressorMixin):\n",
    "    \"\"\"Wrapper class that applies a log transform to the target.\"\"\"\n",
    "    def __init__(self, estimator):\n",
    "        self.estimator = estimator\n",
    "        \n",
    "    def fit(self, X, y, *args, **kwargs):\n",
    "        self.estimator.fit(X, np.log(y), *args, **kwargs)\n",
    "        return self\n",
    "    \n",
    "    def predict(self, X):\n",
    "        return np.exp(self.estimator.predict(X))\n",
    "    \n",
    "    def __getattr__(self, name):\n",
    "        return getattr(self.estimator, name)"
   ]
  },
  {
   "cell_type": "markdown",
   "metadata": {},
   "source": [
    "---\n",
    "## Exercise &minus; Electricity Usage\n",
    "\n",
    "Maximize the test set accuracy for the dataset below. You are encouraged to create lagged feature, rolling window statistic feature, as well as a priori features. You create features by adding columns to the dataframe `X` below. For example:\n",
    "\n",
    "```\n",
    "X['y mean 10'] = y.rolling(10).mean()\n",
    "X['y max 10']  = y.rolling(10).max()\n",
    "...\n",
    "```\n",
    "\n",
    "You should edit the skeleton code in the next cell and run it in order to see your score. Be sure to use distinct names for each feature. You can create a name programatically using python string formatting such as `feature_name = '{} lag {}'.format('y', 1)`.\n",
    "\n",
    "### Lags\n",
    "You can create a lag of a variable using the `y.shift(n)` member. For example, `X['y lag 10'] = data['y'].shift(10)` would add the variable y lagged by 10 rows. \n",
    "\n",
    "### Rolling statistics\n",
    "You can create statistics derived from a rolling window using the `y.rolling(n)` member. For example, `X['rolling mean 7'] = y.rolling(7).mean()` would add the rolling mean average of y over the past 7 rows.\n",
    "\n",
    "For more details on other functions that can be called on the window (e.g. `min`, `max`, `sum`, etc), see the pandas documentation here:    \n",
    "https://pandas.pydata.org/pandas-docs/stable/computation.html#window-functions\n",
    "\n",
    "\n",
    "### A priori Features \n",
    "A priori features are features that are known in advance and are not lagged &minus; for example, features derived from the data like the day of the week. Be careful not to use any variables derived from the target or any other type of covariate. You can specify a feature a priori by appending it's name to the `apriori_columns` array:\n",
    "\n",
    "```\n",
    "X['day of week'] = t.dt.dayofweek\n",
    "apriori_columns.append('day of week')\n",
    "```\n",
    "\n",
    "You can view other datetime properties supported by the `.dt` syntax above here:    \n",
    "https://pandas.pydata.org/pandas-docs/stable/api.html#datetimelike-properties\n",
    "\n",
    "### Scoring\n",
    "You can score your features by calling `fit_model(..., show=True)`. The `show=True` parameter will print a summary of your recent model scores, show a plot of the fitted model to the data, and display a table of the feature importance for each feature that you created. If a feature does not appear it means it was not used by the model.\n",
    "\n"
   ]
  },
  {
   "cell_type": "code",
   "execution_count": 4,
   "metadata": {
    "scrolled": true
   },
   "outputs": [
    {
     "data": {
      "text/html": [
       "<h4>rows: 2959, columns: 2, distance: 7, test_size: 591, test_error: 1.50283124807859</h4>"
      ],
      "text/plain": [
       "<IPython.core.display.HTML object>"
      ]
     },
     "metadata": {},
     "output_type": "display_data"
    },
    {
     "data": {
      "text/html": [
       "<h3>Model Fit:</h3>"
      ],
      "text/plain": [
       "<IPython.core.display.HTML object>"
      ]
     },
     "metadata": {},
     "output_type": "display_data"
    },
    {
     "data": {
      "image/png": "[encoded data removed]",
      "text/plain": [
       "<Figure size 648x216 with 1 Axes>"
      ]
     },
     "metadata": {
      "needs_background": "light"
     },
     "output_type": "display_data"
    },
    {
     "data": {
      "text/html": [
       "<h3>Important Features:</h3>"
      ],
      "text/plain": [
       "<IPython.core.display.HTML object>"
      ]
     },
     "metadata": {},
     "output_type": "display_data"
    },
    {
     "data": {
      "text/html": [
       "<style  type=\"text/css\" >\n",
       "    #T_574df16c_7f1e_11ea_a994_88e9fe625754row0_col0 {\n",
       "            width:  10em;\n",
       "             height:  80%;\n",
       "            background:  linear-gradient(90deg,orange 100.0%, transparent 100.0%);\n",
       "        }    #T_574df16c_7f1e_11ea_a994_88e9fe625754row1_col0 {\n",
       "            width:  10em;\n",
       "             height:  80%;\n",
       "            background:  linear-gradient(90deg,orange 13.6%, transparent 13.6%);\n",
       "        }    #T_574df16c_7f1e_11ea_a994_88e9fe625754row2_col0 {\n",
       "            width:  10em;\n",
       "             height:  80%;\n",
       "        }</style><table id=\"T_574df16c_7f1e_11ea_a994_88e9fe625754\" ><thead>    <tr>        <th class=\"blank level0\" ></th>        <th class=\"col_heading level0 col0\" >Importance</th>    </tr></thead><tbody>\n",
       "                <tr>\n",
       "                        <th id=\"T_574df16c_7f1e_11ea_a994_88e9fe625754level0_row0\" class=\"row_heading level0 row0\" >lag 0</th>\n",
       "                        <td id=\"T_574df16c_7f1e_11ea_a994_88e9fe625754row0_col0\" class=\"data row0 col0\" >0.582011</td>\n",
       "            </tr>\n",
       "            <tr>\n",
       "                        <th id=\"T_574df16c_7f1e_11ea_a994_88e9fe625754level0_row1\" class=\"row_heading level0 row1\" >is_month_start</th>\n",
       "                        <td id=\"T_574df16c_7f1e_11ea_a994_88e9fe625754row1_col0\" class=\"data row1 col0\" >0.079055</td>\n",
       "            </tr>\n",
       "            <tr>\n",
       "                        <th id=\"T_574df16c_7f1e_11ea_a994_88e9fe625754level0_row2\" class=\"row_heading level0 row2\" >(others)</th>\n",
       "                        <td id=\"T_574df16c_7f1e_11ea_a994_88e9fe625754row2_col0\" class=\"data row2 col0\" >0.000000</td>\n",
       "            </tr>\n",
       "    </tbody></table>"
      ],
      "text/plain": [
       "<pandas.io.formats.style.Styler at 0x12701bdd8>"
      ]
     },
     "metadata": {},
     "output_type": "display_data"
    }
   ],
   "source": [
    "# SETUP: Read data and setup common variables (DO NOT EDIT)\n",
    "data = pd.read_csv('data/turkish_electricity_demand.csv', parse_dates=['date'])\n",
    "t = data['date']\n",
    "X = pd.DataFrame()\n",
    "y = data['y']\n",
    "numeric_columns = data.select_dtypes(include=[np.number])\n",
    "apriori_columns = []\n",
    "\n",
    "\n",
    "# -----------------------------------------\n",
    "# EDIT BELOW: Add Features to X\n",
    "# -----------------------------------------\n",
    "\n",
    "# EXAMPLE: Nearest lag\n",
    "X['lag 0'] = y.shift(0)  \n",
    "\n",
    "# EXAMPLE: first day of month indicator (a priori)\n",
    "X['is_month_start'] = t.dt.is_month_start \n",
    "apriori_columns.append('is_month_start')\n",
    "\n",
    "\n",
    "# SCORING: Fit model and and display fit and score (DO NOT EDIT)\n",
    "model, score = fit_model(\n",
    "    t, X, y, \n",
    "    apriori_columns=apriori_columns,\n",
    "    log_transform=False,\n",
    "    distance=7, \n",
    "    show=True,\n",
    "    exercise='electricity',\n",
    ")"
   ]
  },
  {
   "cell_type": "markdown",
   "metadata": {},
   "source": [
    "---\n",
    "## Another Dataset &minus; Stock Data\n",
    "For fun, try to forecast the price of a stock into the future. Stock data is notoriously difficult to forecast. Expore this data to see if any signals exist and what accuracy is possible, if any. This data was collected via the Yahoo Finance API:\n",
    "\n",
    "```\n",
    "import pandas_datareader.data as web\n",
    "data = web.DataReader(['IBM', 'GOOG', 'AAPL', 'MSFT'], 'yahoo', '2010-01-01', '2017-04-14')\n",
    "data = data.sort_index()\n",
    "data = data['Close']\n",
    "data.to_csv('stock_close_prices.csv')\n",
    "```\n"
   ]
  },
  {
   "cell_type": "code",
   "execution_count": 5,
   "metadata": {
    "scrolled": false
   },
   "outputs": [
    {
     "data": {
      "text/html": [
       "<h4>rows: 1970, columns: 2, distance: 28, test_size: 394, test_error: 1.0291067007022885</h4>"
      ],
      "text/plain": [
       "<IPython.core.display.HTML object>"
      ]
     },
     "metadata": {},
     "output_type": "display_data"
    },
    {
     "data": {
      "text/html": [
       "<h3>Model Fit:</h3>"
      ],
      "text/plain": [
       "<IPython.core.display.HTML object>"
      ]
     },
     "metadata": {},
     "output_type": "display_data"
    },
    {
     "data": {
      "image/png": "[encoded data removed]",
      "text/plain": [
       "<Figure size 648x216 with 1 Axes>"
      ]
     },
     "metadata": {
      "needs_background": "light"
     },
     "output_type": "display_data"
    },
    {
     "data": {
      "text/html": [
       "<h3>Important Features:</h3>"
      ],
      "text/plain": [
       "<IPython.core.display.HTML object>"
      ]
     },
     "metadata": {},
     "output_type": "display_data"
    },
    {
     "data": {
      "text/html": [
       "<style  type=\"text/css\" >\n",
       "    #T_5795b8ee_7f1e_11ea_a994_88e9fe625754row0_col0 {\n",
       "            width:  10em;\n",
       "             height:  80%;\n",
       "            background:  linear-gradient(90deg,orange 100.0%, transparent 100.0%);\n",
       "        }    #T_5795b8ee_7f1e_11ea_a994_88e9fe625754row1_col0 {\n",
       "            width:  10em;\n",
       "             height:  80%;\n",
       "        }</style><table id=\"T_5795b8ee_7f1e_11ea_a994_88e9fe625754\" ><thead>    <tr>        <th class=\"blank level0\" ></th>        <th class=\"col_heading level0 col0\" >Importance</th>    </tr></thead><tbody>\n",
       "                <tr>\n",
       "                        <th id=\"T_5795b8ee_7f1e_11ea_a994_88e9fe625754level0_row0\" class=\"row_heading level0 row0\" >lag 0</th>\n",
       "                        <td id=\"T_5795b8ee_7f1e_11ea_a994_88e9fe625754row0_col0\" class=\"data row0 col0\" >0.789545</td>\n",
       "            </tr>\n",
       "            <tr>\n",
       "                        <th id=\"T_5795b8ee_7f1e_11ea_a994_88e9fe625754level0_row1\" class=\"row_heading level0 row1\" >(others)</th>\n",
       "                        <td id=\"T_5795b8ee_7f1e_11ea_a994_88e9fe625754row1_col0\" class=\"data row1 col0\" >0.000000</td>\n",
       "            </tr>\n",
       "    </tbody></table>"
      ],
      "text/plain": [
       "<pandas.io.formats.style.Styler at 0x12701bd68>"
      ]
     },
     "metadata": {},
     "output_type": "display_data"
    }
   ],
   "source": [
    "# SETUP: Read data and setup common variables (DO NOT EDIT)\n",
    "data = pd.read_csv('data/stock_close_prices.csv', parse_dates=['Date'])\n",
    "t = data['Date']\n",
    "X = pd.DataFrame()\n",
    "y = data['AAPL']\n",
    "numeric_columns = data.select_dtypes(include=[np.number])\n",
    "apriori_columns = []\n",
    "\n",
    "# -----------------------------------------\n",
    "# EDIT BELOW: Add Features to X\n",
    "# -----------------------------------------\n",
    "\n",
    "# EXAMPLE: Nearest lag\n",
    "X['lag 0'] = y.shift(0)  \n",
    "\n",
    "# EXAMPLE: first day of month indicator (a priori)\n",
    "X['is_month_start'] = t.dt.is_month_start \n",
    "apriori_columns.append('is_month_start')\n",
    "\n",
    "\n",
    "# SCORING: Fit model and and display fit and score (DO NOT EDIT)\n",
    "model, score = fit_model(\n",
    "    t, X, y, \n",
    "    apriori_columns=apriori_columns,\n",
    "    log_transform=False,\n",
    "    distance=28, \n",
    "    show=True,\n",
    "    exercise='stocks',\n",
    ")"
   ]
  },
  {
   "cell_type": "markdown",
   "metadata": {},
   "source": [
    "## Questions\n",
    "1. What features tend to have the highest impact?\n",
    "1. Do some features hurt the accuracy? Why?\n",
    "1. What is the ideal number of lags?\n",
    "1. What a priori features have the highest impact?\n",
    "1. Is it better to use only the most recent data? How much?\n",
    "\n",
    "## Further Exploration\n",
    "1. Explore the impact of the forecast distance on accuracy\n",
    "1. Explore the impact of log transforming the target\n",
    "1. Explore the impact of differencing the target\n",
    "1. Explore the impact of [other types of machine learning models](http://scikit-learn.org/stable/supervised_learning.html)\n",
    "1. Compare results with a [classical ARIMA model](http://www.statsmodels.org/dev/examples/notebooks/generated/statespace_sarimax_stata.html)\n",
    "1. Explore incorporating additional data (e.g. holidays, economic data, etc)\n"
   ]
  },
  {
   "cell_type": "code",
   "execution_count": null,
   "metadata": {},
   "outputs": [],
   "source": []
  },
  {
   "cell_type": "code",
   "execution_count": null,
   "metadata": {},
   "outputs": [],
   "source": []
  },
  {
   "cell_type": "code",
   "execution_count": null,
   "metadata": {},
   "outputs": [],
   "source": []
  },
  {
   "cell_type": "code",
   "execution_count": null,
   "metadata": {},
   "outputs": [],
   "source": []
  },
  {
   "cell_type": "code",
   "execution_count": null,
   "metadata": {},
   "outputs": [],
   "source": []
  }
 ],
 "metadata": {
  "kernelspec": {
   "display_name": "Python 3",
   "language": "python",
   "name": "python3"
  },
  "language_info": {
   "codemirror_mode": {
    "name": "ipython",
    "version": 3
   },
   "file_extension": ".py",
   "mimetype": "text/x-python",
   "name": "python",
   "nbconvert_exporter": "python",
   "pygments_lexer": "ipython3",
   "version": "3.7.0"
  }
 },
 "nbformat": 4,
 "nbformat_minor": 2
}
